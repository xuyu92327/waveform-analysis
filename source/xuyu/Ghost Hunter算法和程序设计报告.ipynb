{
 "cells": [
  {
   "cell_type": "code",
   "execution_count": 1,
   "metadata": {},
   "outputs": [
    {
     "name": "stderr",
     "output_type": "stream",
     "text": [
      "C:\\Users\\xuyu1\\Miniconda3\\lib\\site-packages\\h5py\\__init__.py:34: FutureWarning: Conversion of the second argument of issubdtype from `float` to `np.floating` is deprecated. In future, it will be treated as `np.float64 == np.dtype(float).type`.\n",
      "  from ._conv import register_converters as _register_converters\n"
     ]
    }
   ],
   "source": [
    "%matplotlib inline\n",
    "import numpy as np\n",
    "import matplotlib.pyplot as plt\n",
    "import h5py\n",
    "import copy\n",
    "import scipy\n",
    "from scipy import stats\n",
    "import time\n",
    "\n",
    "import torch\n",
    "from torch import nn, optim\n",
    "import torch.nn.functional as F\n",
    "from torch.utils.data import DataLoader, TensorDataset"
   ]
  },
  {
   "cell_type": "markdown",
   "metadata": {},
   "source": [
    "载入数据，并将其转换为tensor格式便于随后输入神经网络进行运算。"
   ]
  },
  {
   "cell_type": "code",
   "execution_count": 2,
   "metadata": {
    "collapsed": true
   },
   "outputs": [],
   "source": [
    "fr = h5py.File('../data/train_data_1.h5', 'r')\n",
    "data = fr['data']\n",
    "label = fr['label']"
   ]
  },
  {
   "cell_type": "code",
   "execution_count": 3,
   "metadata": {
    "collapsed": true
   },
   "outputs": [],
   "source": [
    "x = torch.from_numpy(data[:].reshape(-1,1,1029)).float()\n",
    "y = torch.from_numpy(label[:]).float()"
   ]
  },
  {
   "cell_type": "code",
   "execution_count": 4,
   "metadata": {
    "collapsed": true
   },
   "outputs": [],
   "source": [
    "fr.close()"
   ]
  },
  {
   "cell_type": "code",
   "execution_count": 5,
   "metadata": {
    "collapsed": true
   },
   "outputs": [],
   "source": [
    "train_dataset = TensorDataset(x[:1200000], y[:1200000])\n",
    "valid_dataset = TensorDataset(x[1200000:], y[1200000:])"
   ]
  },
  {
   "cell_type": "code",
   "execution_count": 6,
   "metadata": {
    "collapsed": true
   },
   "outputs": [],
   "source": [
    "train_loader = DataLoader(train_dataset, batch_size=64, shuffle=True)\n",
    "valid_loader = DataLoader(valid_dataset, batch_size=64, shuffle=False)"
   ]
  },
  {
   "cell_type": "markdown",
   "metadata": {},
   "source": [
    "下图显示了神经网络的输入与输出。输入为波形， 输出为击中时间在时间窗口内的分布。FADC波形的峰可视为一个或数个单值与单峰的耦合，\n",
    "\n",
    "因此波形重建的实质是求解单峰的逆。由于求得解析解比较复杂，对数学的要求比较高，因而我使用神经网络作为工具力图求得某种形式的数值解。\n",
    "\n",
    "此外为了求解计算的方便我将击中时间向后移动了7个单位以使其落在脉冲的峰的附近。"
   ]
  },
  {
   "cell_type": "code",
   "execution_count": 131,
   "metadata": {},
   "outputs": [
    {
     "name": "stdout",
     "output_type": "stream",
     "text": [
      "该事例的击中时间为: [287 303 310 319 355]\n",
      "该事例每个时间的击中电荷数为: [1. 1. 2. 1. 1.]\n"
     ]
    },
    {
     "data": {
      "image/png": "[encoded data removed]",
      "text/plain": [
       "<Figure size 432x288 with 2 Axes>"
      ]
     },
     "metadata": {},
     "output_type": "display_data"
    }
   ],
   "source": [
    "idx = 1604\n",
    "fig, (ax1, ax2) = plt.subplots(2, sharex=True, gridspec_kw={'hspace':0})\n",
    "ax1.plot(x[idx][0].numpy())\n",
    "idx_n = np.where(y[idx].numpy()>0)[0]\n",
    "ax2.plot(y[idx].numpy())\n",
    "print('该事例的击中时间为:', idx_n)\n",
    "print('该事例每个时间的击中电荷数为:', y[idx][idx_n].numpy())"
   ]
  },
  {
   "cell_type": "markdown",
   "metadata": {},
   "source": [
    "定义网络构架。此网络的采用一维卷积层，卷积核均采用了1x7大小， 并摒弃了池化层。网络共有四层， 每一层的卷积核数分别为[4,8,8,4]。\n",
    "\n",
    "通常情况下，神经网络采用的卷积-池化结构以使得每一层网络的特征图越来越小同时特征图越来越多；\n",
    "\n",
    "此网络的创新点在于在增减特征图的数量的同时特征图的大小保持不变。在此情况下某一层的每个点均是上一层以其为中心的七个点的有机组合。\n",
    "\n",
    "在此情况下输出层的每一个点均是输入层以其为中心的19个点的组合。\n",
    "\n",
    "实践证明在四层网络的情况下卷积核大小为5的效果远不如大小为7。推测原因为大小为5时输出层每点的视野仅为13，判断的信息量不足。\n",
    "\n",
    "此神经网络的构架并非最优化结构。应仍有改进空间。"
   ]
  },
  {
   "cell_type": "code",
   "execution_count": 7,
   "metadata": {
    "collapsed": true
   },
   "outputs": [],
   "source": [
    "class MLP(nn.Module):\n",
    "    def __init__(self):\n",
    "        super(MLP, self).__init__()\n",
    "        self.conv = nn.Sequential(\n",
    "            nn.Conv1d(in_channels=1, out_channels=4, kernel_size=7, stride=1, padding=3), # batch, 4, 1029\n",
    "            nn.LeakyReLU(0.1),\n",
    "            nn.Conv1d(in_channels=4, out_channels=8, kernel_size=7, stride=1, padding=3), # batch, 8, 1029\n",
    "            nn.LeakyReLU(0.1),\n",
    "            nn.ConvTranspose1d(in_channels=8, out_channels=4, kernel_size=7, stride=1, padding=3), # batch, 8, 1029\n",
    "            nn.LeakyReLU(0.1),\n",
    "            nn.ConvTranspose1d(in_channels=4, out_channels=1, kernel_size=7, stride=1, padding=3), # batch, 4, 1029\n",
    "            nn.LeakyReLU(0.1)\n",
    "        )\n",
    "        \n",
    "    def forward(self, x):\n",
    "        x = self.conv(x)\n",
    "        x = x.view(x.size(0), -1)\n",
    "        return x"
   ]
  },
  {
   "cell_type": "markdown",
   "metadata": {},
   "source": [
    "将网络载入GPU"
   ]
  },
  {
   "cell_type": "code",
   "execution_count": 8,
   "metadata": {
    "collapsed": true
   },
   "outputs": [],
   "source": [
    "model = MLP().cuda()"
   ]
  },
  {
   "cell_type": "markdown",
   "metadata": {
    "collapsed": true
   },
   "source": [
    "使用Adam算法优化网络。学习率定为0.001"
   ]
  },
  {
   "cell_type": "code",
   "execution_count": 9,
   "metadata": {
    "collapsed": true
   },
   "outputs": [],
   "source": [
    "optimizer = optim.Adam(model.parameters(), lr=0.001)"
   ]
  },
  {
   "cell_type": "markdown",
   "metadata": {},
   "source": [
    "定义损失函数。 简单的平方差函数。 可略。"
   ]
  },
  {
   "cell_type": "code",
   "execution_count": 10,
   "metadata": {
    "collapsed": true
   },
   "outputs": [],
   "source": [
    "def my_loss(x,y):\n",
    "    dis = torch.pow((x-y), 2)\n",
    "    avg_dis = torch.sum(dis,dim=1).float()/torch.sum(y, dim=1).float()\n",
    "#     argx = torch.argsort(torch.round(x))\n",
    "#     argy = torch.argsort(y)\n",
    "#     argdis = torch.abs(argx-argy)\n",
    "#     avg_argdis = torch.sum(argdis,dim=1).float()/torch.sum(y, dim=1).float()\n",
    "    sum_dis = avg_dis\n",
    "    return torch.mean(sum_dis)"
   ]
  },
  {
   "cell_type": "markdown",
   "metadata": {},
   "source": [
    "训练网络，并存下最好的一组参数。"
   ]
  },
  {
   "cell_type": "code",
   "execution_count": 11,
   "metadata": {},
   "outputs": [
    {
     "name": "stdout",
     "output_type": "stream",
     "text": [
      "Finish 1 epoch, Train Loss: 0.180091, Valid Loss: 0.145024\n",
      "Finish 2 epoch, Train Loss: 0.142971, Valid Loss: 0.138380\n",
      "Finish 3 epoch, Train Loss: 0.139780, Valid Loss: 0.137558\n",
      "Finish 4 epoch, Train Loss: 0.138745, Valid Loss: 0.137302\n",
      "Finish 5 epoch, Train Loss: 0.138090, Valid Loss: 0.136423\n",
      "Finish 6 epoch, Train Loss: 0.137660, Valid Loss: 0.135899\n",
      "Finish 7 epoch, Train Loss: 0.137362, Valid Loss: 0.136193\n",
      "Finish 8 epoch, Train Loss: 0.137095, Valid Loss: 0.135035\n",
      "Finish 9 epoch, Train Loss: 0.136791, Valid Loss: 0.134363\n",
      "Finish 10 epoch, Train Loss: 0.136600, Valid Loss: 0.135058\n",
      "Finish 11 epoch, Train Loss: 0.136361, Valid Loss: 0.135741\n",
      "Finish 12 epoch, Train Loss: 0.136088, Valid Loss: 0.133723\n",
      "Finish 13 epoch, Train Loss: 0.135709, Valid Loss: 0.133456\n",
      "Finish 14 epoch, Train Loss: 0.135427, Valid Loss: 0.134197\n",
      "Finish 15 epoch, Train Loss: 0.135037, Valid Loss: 0.132433\n",
      "Finish 16 epoch, Train Loss: 0.134727, Valid Loss: 0.133191\n",
      "Finish 17 epoch, Train Loss: 0.134467, Valid Loss: 0.134064\n",
      "Finish 18 epoch, Train Loss: 0.134313, Valid Loss: 0.131708\n",
      "Finish 19 epoch, Train Loss: 0.134065, Valid Loss: 0.131681\n",
      "Finish 20 epoch, Train Loss: 0.133857, Valid Loss: 0.131442\n",
      "Finish 21 epoch, Train Loss: 0.133566, Valid Loss: 0.132498\n",
      "Finish 22 epoch, Train Loss: 0.133184, Valid Loss: 0.131437\n",
      "Finish 23 epoch, Train Loss: 0.132850, Valid Loss: 0.131248\n",
      "Finish 24 epoch, Train Loss: 0.132450, Valid Loss: 0.130520\n",
      "Finish 25 epoch, Train Loss: 0.132114, Valid Loss: 0.130351\n",
      "Finish 26 epoch, Train Loss: 0.131801, Valid Loss: 0.131207\n",
      "Finish 27 epoch, Train Loss: 0.131576, Valid Loss: 0.129932\n",
      "Finish 28 epoch, Train Loss: 0.131416, Valid Loss: 0.130563\n",
      "Finish 29 epoch, Train Loss: 0.131292, Valid Loss: 0.129446\n",
      "Finish 30 epoch, Train Loss: 0.131172, Valid Loss: 0.130067\n",
      "Finish 31 epoch, Train Loss: 0.131081, Valid Loss: 0.129463\n",
      "Finish 32 epoch, Train Loss: 0.130960, Valid Loss: 0.130210\n",
      "Finish 33 epoch, Train Loss: 0.130843, Valid Loss: 0.129188\n",
      "Finish 34 epoch, Train Loss: 0.130793, Valid Loss: 0.129153\n",
      "Finish 35 epoch, Train Loss: 0.130694, Valid Loss: 0.129151\n",
      "Finish 36 epoch, Train Loss: 0.130559, Valid Loss: 0.128444\n",
      "Finish 37 epoch, Train Loss: 0.130453, Valid Loss: 0.129319\n",
      "Finish 38 epoch, Train Loss: 0.130396, Valid Loss: 0.128053\n",
      "Finish 39 epoch, Train Loss: 0.130307, Valid Loss: 0.128314\n",
      "Finish 40 epoch, Train Loss: 0.130257, Valid Loss: 0.128356\n",
      "Finish 41 epoch, Train Loss: 0.130207, Valid Loss: 0.128617\n",
      "Finish 42 epoch, Train Loss: 0.130143, Valid Loss: 0.128119\n",
      "Finish 43 epoch, Train Loss: 0.130112, Valid Loss: 0.128416\n",
      "Finish 44 epoch, Train Loss: 0.130008, Valid Loss: 0.128515\n",
      "Finish 45 epoch, Train Loss: 0.129883, Valid Loss: 0.129981\n",
      "Finish 46 epoch, Train Loss: 0.129754, Valid Loss: 0.127634\n",
      "Finish 47 epoch, Train Loss: 0.129723, Valid Loss: 0.127452\n",
      "Finish 48 epoch, Train Loss: 0.129653, Valid Loss: 0.127269\n",
      "Finish 49 epoch, Train Loss: 0.129619, Valid Loss: 0.127352\n",
      "Finish 50 epoch, Train Loss: 0.129556, Valid Loss: 0.129044\n"
     ]
    }
   ],
   "source": [
    "model = model.train()\n",
    "best_loss = 1000.\n",
    "for epoch in range(50):\n",
    "    running_loss = 0.0\n",
    "    running_acc = 0.0\n",
    "    for i, (data, label) in enumerate(train_loader):\n",
    "        data = data.float().cuda()\n",
    "        label = label.cuda()\n",
    "        \n",
    "        out = model(data)\n",
    "        loss = my_loss(out, label)\n",
    "        running_loss += loss.data.item()*label.size(0)\n",
    "        \n",
    "        optimizer.zero_grad()\n",
    "        loss.backward()\n",
    "        optimizer.step()\n",
    "        \n",
    "    model.eval()\n",
    "    valid_loss = 0.0\n",
    "    valid_acc = 0.0\n",
    "    for (data, label) in valid_loader:\n",
    "        data = data.float().cuda()\n",
    "        label = label.cuda()\n",
    "        out = model(data)\n",
    "        loss = my_loss(out, label)\n",
    "        valid_loss += loss.data.item() * label.size(0)\n",
    "    print('Finish {} epoch, Train Loss: {:.6f}, Valid Loss: {:.6f}'.format(epoch+1, running_loss/(len(train_dataset)), valid_loss/(len(valid_dataset))))\n",
    "    cur_loss = valid_loss / (len(valid_dataset))\n",
    "    if cur_loss < best_loss:\n",
    "        best_model = copy.deepcopy(model)\n",
    "        best_loss = cur_loss\n",
    "\n",
    "torch.save(best_model.state_dict(), 'model_conv1d_test_1.pt')\n",
    "model.load_state_dict(best_model.state_dict())"
   ]
  },
  {
   "cell_type": "markdown",
   "metadata": {},
   "source": [
    "载入最好的一组参数，评估网络训练的结果。"
   ]
  },
  {
   "cell_type": "code",
   "execution_count": 12,
   "metadata": {},
   "outputs": [
    {
     "data": {
      "text/plain": [
       "MLP(\n",
       "  (conv): Sequential(\n",
       "    (0): Conv1d(1, 4, kernel_size=(7,), stride=(1,), padding=(3,))\n",
       "    (1): LeakyReLU(negative_slope=0.1)\n",
       "    (2): Conv1d(4, 8, kernel_size=(7,), stride=(1,), padding=(3,))\n",
       "    (3): LeakyReLU(negative_slope=0.1)\n",
       "    (4): ConvTranspose1d(8, 4, kernel_size=(7,), stride=(1,), padding=(3,))\n",
       "    (5): LeakyReLU(negative_slope=0.1)\n",
       "    (6): ConvTranspose1d(4, 1, kernel_size=(7,), stride=(1,), padding=(3,))\n",
       "    (7): LeakyReLU(negative_slope=0.1)\n",
       "  )\n",
       ")"
      ]
     },
     "execution_count": 12,
     "metadata": {},
     "output_type": "execute_result"
    }
   ],
   "source": [
    "model.load_state_dict(best_model.state_dict())\n",
    "model.eval()"
   ]
  },
  {
   "cell_type": "markdown",
   "metadata": {
    "collapsed": true
   },
   "source": [
    "显示神经网络参数名并打印其中一组参数"
   ]
  },
  {
   "cell_type": "code",
   "execution_count": 52,
   "metadata": {},
   "outputs": [
    {
     "name": "stdout",
     "output_type": "stream",
     "text": [
      "conv.0.weight\n",
      "conv.0.bias\n",
      "conv.2.weight\n",
      "conv.2.bias\n",
      "conv.4.weight\n",
      "conv.4.bias\n",
      "conv.6.weight\n",
      "conv.6.bias\n"
     ]
    }
   ],
   "source": [
    "params = model.state_dict()\n",
    "for k,v in params.items():\n",
    "    print(k)"
   ]
  },
  {
   "cell_type": "code",
   "execution_count": 55,
   "metadata": {},
   "outputs": [
    {
     "data": {
      "text/plain": [
       "tensor([[[ 3.5697e-03,  2.6394e-02, -1.4024e-01,  1.0317e-01, -8.0489e-02,\n",
       "          -3.4566e-02,  3.7307e-02]],\n",
       "\n",
       "        [[-1.7594e-02,  1.0973e-01, -2.8922e-02,  3.7159e-02,  7.6028e-05,\n",
       "           8.6449e-03,  8.2122e-03]],\n",
       "\n",
       "        [[ 1.5624e-02,  8.7636e-03, -2.2258e-01,  4.6258e-02,  1.3887e-01,\n",
       "          -1.2293e-01,  7.4016e-02]],\n",
       "\n",
       "        [[-3.1358e-02,  1.6528e-01, -1.6848e-01,  4.6165e-02,  3.4245e-02,\n",
       "          -2.2509e-02, -5.7343e-03]]], device='cuda:0')"
      ]
     },
     "execution_count": 55,
     "metadata": {},
     "output_type": "execute_result"
    }
   ],
   "source": [
    "params['conv.6.weight']"
   ]
  },
  {
   "cell_type": "code",
   "execution_count": 14,
   "metadata": {
    "collapsed": true
   },
   "outputs": [],
   "source": [
    "import time"
   ]
  },
  {
   "cell_type": "code",
   "execution_count": 15,
   "metadata": {},
   "outputs": [
    {
     "data": {
      "text/plain": [
       "144116"
      ]
     },
     "execution_count": 15,
     "metadata": {},
     "output_type": "execute_result"
    }
   ],
   "source": [
    "nevt = len(valid_dataset)\n",
    "nevt"
   ]
  },
  {
   "cell_type": "code",
   "execution_count": 16,
   "metadata": {},
   "outputs": [
    {
     "name": "stdout",
     "output_type": "stream",
     "text": [
      "valid Loss: 0.127269\n"
     ]
    }
   ],
   "source": [
    "model.eval()\n",
    "valid_loss = 0.0\n",
    "valid_acc = 0.0\n",
    "for (data, label) in valid_loader:\n",
    "    data = data.float().cuda()\n",
    "    label = label.cuda()\n",
    "    out = model(data)\n",
    "    loss = my_loss(out, label)\n",
    "    valid_loss += loss.data.item() * label.size(0)\n",
    "\n",
    "print('valid Loss: {:.6f}'.format(valid_loss / (len(valid_dataset))))"
   ]
  },
  {
   "cell_type": "markdown",
   "metadata": {},
   "source": [
    "使用训练完成的网络参数预测样本波形的击中时间， 并计算运行144116个波形所需的运行时间"
   ]
  },
  {
   "cell_type": "code",
   "execution_count": 17,
   "metadata": {},
   "outputs": [
    {
     "name": "stdout",
     "output_type": "stream",
     "text": [
      "0\n",
      "10000\n",
      "20000\n",
      "30000\n",
      "40000\n",
      "50000\n",
      "60000\n",
      "70000\n",
      "80000\n",
      "90000\n",
      "100000\n",
      "110000\n",
      "120000\n",
      "130000\n",
      "140000\n",
      "159.1650745868683\n"
     ]
    }
   ],
   "source": [
    "predict = np.zeros((nevt, 1029), dtype=np.float16)\n",
    "\n",
    "valid_loader = DataLoader(valid_dataset, batch_size=1, shuffle=False)\n",
    "model.eval()\n",
    "threshold = 0.15\n",
    "tstart = time.time()\n",
    "for (i,(pulse, eid_)) in enumerate(valid_loader):\n",
    "    if i%10000==0: print(i)\n",
    "    pulse = pulse.cuda()\n",
    "    out = model(pulse)\n",
    "    predict[i] = out.cpu().detach().numpy()  \n",
    "\n",
    "tend = time.time()\n",
    "print(tend-tstart)"
   ]
  },
  {
   "cell_type": "markdown",
   "metadata": {},
   "source": [
    "可以计算出模型共有521个参数，重建一个通道需要516096次乘加运算。\n",
    "每秒可以完成905个波形的重建(笔记本显卡GTX1060）。 此速度应仍有较大提升空间"
   ]
  },
  {
   "cell_type": "code",
   "execution_count": 18,
   "metadata": {},
   "outputs": [
    {
     "data": {
      "text/plain": [
       "905.449894545459"
      ]
     },
     "execution_count": 18,
     "metadata": {},
     "output_type": "execute_result"
    }
   ],
   "source": [
    "len(valid_dataset)/(tend-tstart)"
   ]
  },
  {
   "cell_type": "markdown",
   "metadata": {},
   "source": [
    "检验是否有通道没有重建出击中时间。 在144116个验证样本内所有通道都可以成功重建。"
   ]
  },
  {
   "cell_type": "code",
   "execution_count": 19,
   "metadata": {},
   "outputs": [
    {
     "name": "stdout",
     "output_type": "stream",
     "text": [
      "所有通道重建成功。\n"
     ]
    }
   ],
   "source": [
    "non_predict = 0\n",
    "for i in range(nevt):\n",
    "    idx_i = np.where(predict[i]>0)[0]\n",
    "    nhit = len(idx_i)\n",
    "    if nhit==0:\n",
    "        non_predict += 1\n",
    "        print(i, idx_i)\n",
    "if non_predict==0:\n",
    "    print('所有通道重建成功。')"
   ]
  },
  {
   "cell_type": "markdown",
   "metadata": {},
   "source": [
    "展示重建出的击中时间与真实击中时间的比较。此事例的w距离为0.33"
   ]
  },
  {
   "cell_type": "code",
   "execution_count": 27,
   "metadata": {},
   "outputs": [
    {
     "name": "stdout",
     "output_type": "stream",
     "text": [
      "该事例的脉冲击中时间为 [296 300 301 303 305 307 313 317 328 333 334 355]\n",
      "该事例的击中光子数为 tensor([1., 2., 1., 2., 2., 1., 1., 1., 1., 1., 1., 1.])\n",
      "该事例的预测脉冲击中时间为 [296 300 301 302 303 304 305 306 307 313 317 328 333 334 355]\n",
      "该事例的预测击中光子数为 [1.138  1.396  0.713  0.4644 1.666  1.083  1.222  0.624  1.038  0.97\n",
      " 0.975  0.8887 1.047  0.8027 1.028 ]\n",
      "该事例的w距离为 3.1192367980109195\n"
     ]
    },
    {
     "data": {
      "image/png": "[encoded data removed]",
      "text/plain": [
       "<Figure size 432x288 with 1 Axes>"
      ]
     },
     "metadata": {},
     "output_type": "display_data"
    }
   ],
   "source": [
    "idx = 11923\n",
    "plt.plot(x[1200000+idx][0].numpy())\n",
    "idx_n = np.where(y[1200000+idx].numpy()>0)[0]\n",
    "print('该事例的脉冲击中时间为', idx_n)\n",
    "print('该事例的击中光子数为', y[1200000+idx][idx_n])\n",
    "idx_p = np.where(predict[idx]>0.15)[0]\n",
    "print('该事例的预测脉冲击中时间为', idx_p)\n",
    "print('该事例的预测击中光子数为', predict[idx][idx_p])\n",
    "w1 = predict[idx][idx_p]\n",
    "w_dist = scipy.stats.wasserstein_distance(idx_n, idx_p, v_weights=w1)\n",
    "print('该事例的w距离为', w_dist)"
   ]
  },
  {
   "cell_type": "markdown",
   "metadata": {},
   "source": [
    "计算验证集波形的w距离， 并将其存入数组w_dists"
   ]
  },
  {
   "cell_type": "code",
   "execution_count": 31,
   "metadata": {},
   "outputs": [
    {
     "name": "stdout",
     "output_type": "stream",
     "text": [
      "0\n",
      "10000\n",
      "20000\n",
      "30000\n",
      "40000\n",
      "50000\n",
      "60000\n",
      "70000\n",
      "80000\n",
      "90000\n",
      "100000\n",
      "110000\n",
      "120000\n",
      "130000\n",
      "140000\n"
     ]
    }
   ],
   "source": [
    "w_dists = np.zeros(nevt)\n",
    "\n",
    "for i in range(nevt):\n",
    "    if i%10000==0: print(i)\n",
    "    idx_n = np.where(y[1200000+i].numpy()>0)[0]\n",
    "    if(len(idx_n)==0):\n",
    "        print(i)\n",
    "        w_dists[i] = 0\n",
    "        continue\n",
    "    idx_p = np.where(predict[i]>0.1)[0]\n",
    "    w1 = predict[i][idx_p]\n",
    "    if(len(w1)==0):\n",
    "        idx_p = [295]\n",
    "        w1 = [1]\n",
    "    w_dists[i] = scipy.stats.wasserstein_distance(idx_n, idx_p, v_weights=w1)"
   ]
  },
  {
   "cell_type": "markdown",
   "metadata": {},
   "source": [
    "计算w距离的均值， 并作出w距离的分布图。"
   ]
  },
  {
   "cell_type": "code",
   "execution_count": 32,
   "metadata": {},
   "outputs": [
    {
     "name": "stdout",
     "output_type": "stream",
     "text": [
      "w距离的均值为1.730436\n"
     ]
    },
    {
     "data": {
      "text/plain": [
       "Text(0.5,1,'w dists')"
      ]
     },
     "execution_count": 32,
     "metadata": {},
     "output_type": "execute_result"
    },
    {
     "data": {
      "image/png": "[encoded data removed]",
      "text/plain": [
       "<Figure size 432x288 with 1 Axes>"
      ]
     },
     "metadata": {},
     "output_type": "display_data"
    }
   ],
   "source": [
    "w_min = w_dists[:].mean()\n",
    "print('w距离的均值为%f'%w_min)\n",
    "\n",
    "plt.hist(w_dists, bins=100, range=(0,20))\n",
    "plt.title('w dists')"
   ]
  },
  {
   "cell_type": "markdown",
   "metadata": {},
   "source": [
    "展示出一些w距离特别大的事例的编号"
   ]
  },
  {
   "cell_type": "code",
   "execution_count": 33,
   "metadata": {},
   "outputs": [
    {
     "data": {
      "text/plain": [
       "array([  957,  1841,  2236,  3091,  3475,  4615,  4654,  6934,  8187,\n",
       "        8192,  9111, 11538, 11547, 17399, 18351, 19019, 19157, 19457,\n",
       "       19511, 19952], dtype=int64)"
      ]
     },
     "execution_count": 33,
     "metadata": {},
     "output_type": "execute_result"
    }
   ],
   "source": [
    "np.where(w_dists>20)[0][:20]"
   ]
  },
  {
   "cell_type": "markdown",
   "metadata": {},
   "source": [
    "展示出其中一个w距离较大的通道， 并打印出真实击中时间和预测击中时间以进行比较。结果显示当几个击中时间相差较大时即使预测时间完全正确小数与整数的偏差也可能造成大的w距离。 此事例的w距离为24.38。"
   ]
  },
  {
   "cell_type": "code",
   "execution_count": 48,
   "metadata": {},
   "outputs": [
    {
     "name": "stdout",
     "output_type": "stream",
     "text": [
      "[287 297 298 712]\n",
      "tensor([1., 1., 2., 1.])\n",
      "[287 297 298 712]\n",
      "[1.378  0.7173 2.13   0.9863]\n",
      "25.4015456674473\n"
     ]
    },
    {
     "data": {
      "image/png": "[encoded data removed]",
      "text/plain": [
       "<Figure size 432x288 with 1 Axes>"
      ]
     },
     "metadata": {},
     "output_type": "display_data"
    }
   ],
   "source": [
    "idx = 1841\n",
    "plt.plot(x[1200000+idx][0].numpy())\n",
    "idx_n = np.where(y[1200000+idx].numpy()>0)[0]\n",
    "print(idx_n)\n",
    "print(y[1200000+idx][idx_n])\n",
    "idx_p = np.where(predict[idx]>0.15)[0]\n",
    "print(idx_p)\n",
    "print(predict[idx][idx_p])\n",
    "w1 = predict[idx][idx_p]\n",
    "w_dist = scipy.stats.wasserstein_distance(idx_n, idx_p, v_weights=w1)\n",
    "print(w_dist)"
   ]
  },
  {
   "cell_type": "markdown",
   "metadata": {},
   "source": [
    "将所有大于0.8的值四舍五入后重新计算w距离"
   ]
  },
  {
   "cell_type": "code",
   "execution_count": 49,
   "metadata": {},
   "outputs": [
    {
     "name": "stdout",
     "output_type": "stream",
     "text": [
      "0\n",
      "10000\n",
      "20000\n",
      "30000\n",
      "40000\n",
      "50000\n",
      "60000\n",
      "70000\n",
      "80000\n",
      "90000\n",
      "100000\n",
      "110000\n",
      "120000\n",
      "130000\n",
      "140000\n"
     ]
    }
   ],
   "source": [
    "w_dists_new = np.zeros(nevt)\n",
    "\n",
    "for i in range(nevt):\n",
    "    if i%10000==0: print(i)\n",
    "    idx_n = np.where(y[1200000+i].numpy()>0)[0]\n",
    "    if(len(idx_n)==0):\n",
    "        print(i)\n",
    "        w_dists_new[i] = 0\n",
    "        continue\n",
    "    idx_p = np.where(predict[i]>0.1)[0]\n",
    "    idx_p2 = np.where(predict[i]>0.8)[0]\n",
    "    predict[i][idx_p2] = np.round(predict[i][idx_p2])\n",
    "    w1 = predict[i][idx_p]\n",
    "    if(len(w1)==0):\n",
    "        idx_p = [295]\n",
    "        w1 = [1]\n",
    "    w_dists_new[i] = scipy.stats.wasserstein_distance(idx_n, idx_p, v_weights=w1)"
   ]
  },
  {
   "cell_type": "markdown",
   "metadata": {},
   "source": [
    "w距离的表现有所提升，但不大"
   ]
  },
  {
   "cell_type": "code",
   "execution_count": 50,
   "metadata": {},
   "outputs": [
    {
     "name": "stdout",
     "output_type": "stream",
     "text": [
      "w距离的均值为1.604806\n"
     ]
    },
    {
     "data": {
      "text/plain": [
       "Text(0.5,1,'w dists')"
      ]
     },
     "execution_count": 50,
     "metadata": {},
     "output_type": "execute_result"
    },
    {
     "data": {
      "image/png": "[encoded data removed]",
      "text/plain": [
       "<Figure size 432x288 with 1 Axes>"
      ]
     },
     "metadata": {},
     "output_type": "display_data"
    }
   ],
   "source": [
    "w_min = w_dists_new[:].mean()\n",
    "print('w距离的均值为%f'%w_min)\n",
    "\n",
    "plt.hist(w_dists_new, bins=100, range=(0,20))\n",
    "plt.title('w dists')"
   ]
  },
  {
   "cell_type": "code",
   "execution_count": null,
   "metadata": {
    "collapsed": true
   },
   "outputs": [],
   "source": []
  }
 ],
 "metadata": {
  "kernelspec": {
   "display_name": "Python 3",
   "language": "python",
   "name": "python3"
  },
  "language_info": {
   "codemirror_mode": {
    "name": "ipython",
    "version": 3
   },
   "file_extension": ".py",
   "mimetype": "text/x-python",
   "name": "python",
   "nbconvert_exporter": "python",
   "pygments_lexer": "ipython3",
   "version": "3.7.4"
  }
 },
 "nbformat": 4,
 "nbformat_minor": 2
}
